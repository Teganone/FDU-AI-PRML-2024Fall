{
 "cells": [
  {
   "cell_type": "markdown",
   "id": "faa9e6fb23a5356",
   "metadata": {
    "collapsed": false
   },
   "source": [
    "# FDU AI PRML 2024 Fall Exercise 1 - Linear Models\n",
    "\n",
    "Name: <your name>\n",
    "\n",
    "Student ID: <your student id>\n",
    "\n",
    "In this exercise, you need to complete the implementation of an ordinary least squares Linear Regression model, and a naive Softmax classifier on our simple `fduml` framework. We have written most of the code for you already, and you only need to fill in the most essential parts marked in TODO. We have also prepared several test cases for you to check if your code works correctly. Furthermore, you can also test the accuracy of your code by comparing its output with the output of Sklearn."
   ]
  },
  {
   "cell_type": "code",
   "execution_count": null,
   "id": "fc42f1d4c0679bec",
   "metadata": {
    "collapsed": false
   },
   "outputs": [],
   "source": [
    "# Auto reload external modules, which means you can modify the code of our fduml implementation without restarting the kernel.\n",
    "%load_ext autoreload\n",
    "%autoreload 2"
   ]
  },
  {
   "cell_type": "code",
   "execution_count": null,
   "id": "bbac084f253b88a6",
   "metadata": {
    "collapsed": false
   },
   "outputs": [],
   "source": [
    "# Basic imports\n",
    "import numpy as np\n",
    "import random\n",
    "import matplotlib.pyplot as plt\n",
    "from matplotlib import rc\n",
    "\n",
    "np.random.seed(42)\n",
    "random.seed(42)"
   ]
  },
  {
   "cell_type": "markdown",
   "id": "ec7c6a735bfd8359",
   "metadata": {
    "collapsed": false
   },
   "source": [
    "## Implement and test (40 points)\n",
    "\n",
    "We have prepared several test cases for you to check if your code works correctly. After you write your own implementation, try the following code for testing."
   ]
  },
  {
   "cell_type": "code",
   "execution_count": null,
   "id": "5df4695e706b454e",
   "metadata": {
    "collapsed": false
   },
   "outputs": [],
   "source": [
    "from fduml import *"
   ]
  },
  {
   "cell_type": "code",
   "execution_count": null,
   "id": "5bfb326e10ed1fb2",
   "metadata": {
    "collapsed": false
   },
   "outputs": [],
   "source": [
    "# Test Linear Regression (10 points)\n",
    "\n",
    "from fduml.linear_model.tests.test_linear_reg import test_linear_regression\n",
    "test_linear_regression()"
   ]
  },
  {
   "cell_type": "code",
   "execution_count": null,
   "id": "3647c62a396fcb50",
   "metadata": {
    "collapsed": false
   },
   "outputs": [],
   "source": [
    "# Test Softmax Regression (10 points)\n",
    "\n",
    "from fduml.linear_model.tests.test_softmax import test_softmax\n",
    "test_softmax()"
   ]
  },
  {
   "cell_type": "markdown",
   "id": "60c37d37",
   "metadata": {},
   "source": [
    "## Load data and fit the model (40 points)\n",
    "\n",
    "Inside the data directory we have prepared a classification dataset, split into training and test sets. In this part, you will load the data and fit the model to the training data. Then, you will evaluate the model on the test data."
   ]
  },
  {
   "cell_type": "code",
   "execution_count": null,
   "id": "c031af96",
   "metadata": {},
   "outputs": [],
   "source": [
    "# Load the water potability dataset"
   ]
  },
  {
   "cell_type": "code",
   "execution_count": null,
   "id": "afdbd119",
   "metadata": {},
   "outputs": [],
   "source": [
    "# Fit a LinearRegression model and a SoftmaxClassifier to the water potability train set"
   ]
  },
  {
   "cell_type": "code",
   "execution_count": null,
   "id": "2adacae0",
   "metadata": {},
   "outputs": [],
   "source": [
    "# Evaluate these models on the water potability test set"
   ]
  },
  {
   "cell_type": "markdown",
   "id": "d865aa4552324124",
   "metadata": {
    "collapsed": false
   },
   "source": [
    "## Compare with Sklearn (20 points)\n",
    "\n",
    "Since the interface of our `fduml` is the same as that of sklearn, you can easily compare the output of your implementation with that of sklearn. In this part, try to generate test data and compare the accuracy and running time of your implementation with that of sklearn. You can use the following code for comparison.\n",
    "\n",
    "In the conclusion part, try to answer the following questions:\n",
    "\n",
    "- Is the accuracy of your implementation the same as that of sklearn? If not, what can be the reason?\n",
    "\n",
    "- Is the running time of your implementation the same as that of sklearn? If not, what can be the reason?\n",
    "\n",
    "- If there is any special thing you want to mention, please write it down.\n",
    "\n",
    "Note that we do not require you to match the accuracy and running time of sklearn (which can be quite difficult), but you should be able to explain the reason if they are different."
   ]
  },
  {
   "cell_type": "code",
   "execution_count": null,
   "id": "e7521a793b9a5488",
   "metadata": {
    "collapsed": false
   },
   "outputs": [],
   "source": []
  },
  {
   "cell_type": "markdown",
   "id": "499ef0501ed482fb",
   "metadata": {
    "collapsed": false
   },
   "source": [
    "## Conclusion"
   ]
  }
 ],
 "metadata": {
  "kernelspec": {
   "display_name": "Python 3",
   "language": "python",
   "name": "python3"
  },
  "language_info": {
   "codemirror_mode": {
    "name": "ipython",
    "version": 2
   },
   "file_extension": ".py",
   "mimetype": "text/x-python",
   "name": "python",
   "nbconvert_exporter": "python",
   "pygments_lexer": "ipython2",
   "version": "2.7.6"
  }
 },
 "nbformat": 4,
 "nbformat_minor": 5
}
